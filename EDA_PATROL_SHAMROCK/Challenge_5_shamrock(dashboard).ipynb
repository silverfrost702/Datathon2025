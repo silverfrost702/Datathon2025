{
  "nbformat": 4,
  "nbformat_minor": 0,
  "metadata": {
    "colab": {
      "provenance": []
    },
    "kernelspec": {
      "name": "python3",
      "display_name": "Python 3"
    },
    "language_info": {
      "name": "python"
    }
  },
  "cells": [
    {
      "cell_type": "code",
      "source": [
        "!pip install streamlit pyngrok"
      ],
      "metadata": {
        "colab": {
          "base_uri": "https://localhost:8080/"
        },
        "id": "aTUyDlTwKglo",
        "outputId": "19cdab89-4887-48aa-9e90-e126869c3981"
      },
      "execution_count": 1,
      "outputs": [
        {
          "output_type": "stream",
          "name": "stdout",
          "text": [
            "Collecting streamlit\n",
            "  Downloading streamlit-1.44.1-py3-none-any.whl.metadata (8.9 kB)\n",
            "Collecting pyngrok\n",
            "  Downloading pyngrok-7.2.3-py3-none-any.whl.metadata (8.7 kB)\n",
            "Requirement already satisfied: altair<6,>=4.0 in /usr/local/lib/python3.11/dist-packages (from streamlit) (5.5.0)\n",
            "Requirement already satisfied: blinker<2,>=1.0.0 in /usr/local/lib/python3.11/dist-packages (from streamlit) (1.9.0)\n",
            "Requirement already satisfied: cachetools<6,>=4.0 in /usr/local/lib/python3.11/dist-packages (from streamlit) (5.5.2)\n",
            "Requirement already satisfied: click<9,>=7.0 in /usr/local/lib/python3.11/dist-packages (from streamlit) (8.1.8)\n",
            "Requirement already satisfied: numpy<3,>=1.23 in /usr/local/lib/python3.11/dist-packages (from streamlit) (2.0.2)\n",
            "Requirement already satisfied: packaging<25,>=20 in /usr/local/lib/python3.11/dist-packages (from streamlit) (24.2)\n",
            "Requirement already satisfied: pandas<3,>=1.4.0 in /usr/local/lib/python3.11/dist-packages (from streamlit) (2.2.2)\n",
            "Requirement already satisfied: pillow<12,>=7.1.0 in /usr/local/lib/python3.11/dist-packages (from streamlit) (11.1.0)\n",
            "Requirement already satisfied: protobuf<6,>=3.20 in /usr/local/lib/python3.11/dist-packages (from streamlit) (5.29.4)\n",
            "Requirement already satisfied: pyarrow>=7.0 in /usr/local/lib/python3.11/dist-packages (from streamlit) (18.1.0)\n",
            "Requirement already satisfied: requests<3,>=2.27 in /usr/local/lib/python3.11/dist-packages (from streamlit) (2.32.3)\n",
            "Requirement already satisfied: tenacity<10,>=8.1.0 in /usr/local/lib/python3.11/dist-packages (from streamlit) (9.1.2)\n",
            "Requirement already satisfied: toml<2,>=0.10.1 in /usr/local/lib/python3.11/dist-packages (from streamlit) (0.10.2)\n",
            "Requirement already satisfied: typing-extensions<5,>=4.4.0 in /usr/local/lib/python3.11/dist-packages (from streamlit) (4.13.1)\n",
            "Collecting watchdog<7,>=2.1.5 (from streamlit)\n",
            "  Downloading watchdog-6.0.0-py3-none-manylinux2014_x86_64.whl.metadata (44 kB)\n",
            "\u001b[2K     \u001b[90m━━━━━━━━━━━━━━━━━━━━━━━━━━━━━━━━━━━━━━━━\u001b[0m \u001b[32m44.3/44.3 kB\u001b[0m \u001b[31m1.8 MB/s\u001b[0m eta \u001b[36m0:00:00\u001b[0m\n",
            "\u001b[?25hRequirement already satisfied: gitpython!=3.1.19,<4,>=3.0.7 in /usr/local/lib/python3.11/dist-packages (from streamlit) (3.1.44)\n",
            "Collecting pydeck<1,>=0.8.0b4 (from streamlit)\n",
            "  Downloading pydeck-0.9.1-py2.py3-none-any.whl.metadata (4.1 kB)\n",
            "Requirement already satisfied: tornado<7,>=6.0.3 in /usr/local/lib/python3.11/dist-packages (from streamlit) (6.4.2)\n",
            "Requirement already satisfied: PyYAML>=5.1 in /usr/local/lib/python3.11/dist-packages (from pyngrok) (6.0.2)\n",
            "Requirement already satisfied: jinja2 in /usr/local/lib/python3.11/dist-packages (from altair<6,>=4.0->streamlit) (3.1.6)\n",
            "Requirement already satisfied: jsonschema>=3.0 in /usr/local/lib/python3.11/dist-packages (from altair<6,>=4.0->streamlit) (4.23.0)\n",
            "Requirement already satisfied: narwhals>=1.14.2 in /usr/local/lib/python3.11/dist-packages (from altair<6,>=4.0->streamlit) (1.33.0)\n",
            "Requirement already satisfied: gitdb<5,>=4.0.1 in /usr/local/lib/python3.11/dist-packages (from gitpython!=3.1.19,<4,>=3.0.7->streamlit) (4.0.12)\n",
            "Requirement already satisfied: python-dateutil>=2.8.2 in /usr/local/lib/python3.11/dist-packages (from pandas<3,>=1.4.0->streamlit) (2.8.2)\n",
            "Requirement already satisfied: pytz>=2020.1 in /usr/local/lib/python3.11/dist-packages (from pandas<3,>=1.4.0->streamlit) (2025.2)\n",
            "Requirement already satisfied: tzdata>=2022.7 in /usr/local/lib/python3.11/dist-packages (from pandas<3,>=1.4.0->streamlit) (2025.2)\n",
            "Requirement already satisfied: charset-normalizer<4,>=2 in /usr/local/lib/python3.11/dist-packages (from requests<3,>=2.27->streamlit) (3.4.1)\n",
            "Requirement already satisfied: idna<4,>=2.5 in /usr/local/lib/python3.11/dist-packages (from requests<3,>=2.27->streamlit) (3.10)\n",
            "Requirement already satisfied: urllib3<3,>=1.21.1 in /usr/local/lib/python3.11/dist-packages (from requests<3,>=2.27->streamlit) (2.3.0)\n",
            "Requirement already satisfied: certifi>=2017.4.17 in /usr/local/lib/python3.11/dist-packages (from requests<3,>=2.27->streamlit) (2025.1.31)\n",
            "Requirement already satisfied: smmap<6,>=3.0.1 in /usr/local/lib/python3.11/dist-packages (from gitdb<5,>=4.0.1->gitpython!=3.1.19,<4,>=3.0.7->streamlit) (5.0.2)\n",
            "Requirement already satisfied: MarkupSafe>=2.0 in /usr/local/lib/python3.11/dist-packages (from jinja2->altair<6,>=4.0->streamlit) (3.0.2)\n",
            "Requirement already satisfied: attrs>=22.2.0 in /usr/local/lib/python3.11/dist-packages (from jsonschema>=3.0->altair<6,>=4.0->streamlit) (25.3.0)\n",
            "Requirement already satisfied: jsonschema-specifications>=2023.03.6 in /usr/local/lib/python3.11/dist-packages (from jsonschema>=3.0->altair<6,>=4.0->streamlit) (2024.10.1)\n",
            "Requirement already satisfied: referencing>=0.28.4 in /usr/local/lib/python3.11/dist-packages (from jsonschema>=3.0->altair<6,>=4.0->streamlit) (0.36.2)\n",
            "Requirement already satisfied: rpds-py>=0.7.1 in /usr/local/lib/python3.11/dist-packages (from jsonschema>=3.0->altair<6,>=4.0->streamlit) (0.24.0)\n",
            "Requirement already satisfied: six>=1.5 in /usr/local/lib/python3.11/dist-packages (from python-dateutil>=2.8.2->pandas<3,>=1.4.0->streamlit) (1.17.0)\n",
            "Downloading streamlit-1.44.1-py3-none-any.whl (9.8 MB)\n",
            "\u001b[2K   \u001b[90m━━━━━━━━━━━━━━━━━━━━━━━━━━━━━━━━━━━━━━━━\u001b[0m \u001b[32m9.8/9.8 MB\u001b[0m \u001b[31m61.9 MB/s\u001b[0m eta \u001b[36m0:00:00\u001b[0m\n",
            "\u001b[?25hDownloading pyngrok-7.2.3-py3-none-any.whl (23 kB)\n",
            "Downloading pydeck-0.9.1-py2.py3-none-any.whl (6.9 MB)\n",
            "\u001b[2K   \u001b[90m━━━━━━━━━━━━━━━━━━━━━━━━━━━━━━━━━━━━━━━━\u001b[0m \u001b[32m6.9/6.9 MB\u001b[0m \u001b[31m88.3 MB/s\u001b[0m eta \u001b[36m0:00:00\u001b[0m\n",
            "\u001b[?25hDownloading watchdog-6.0.0-py3-none-manylinux2014_x86_64.whl (79 kB)\n",
            "\u001b[2K   \u001b[90m━━━━━━━━━━━━━━━━━━━━━━━━━━━━━━━━━━━━━━━━\u001b[0m \u001b[32m79.1/79.1 kB\u001b[0m \u001b[31m6.0 MB/s\u001b[0m eta \u001b[36m0:00:00\u001b[0m\n",
            "\u001b[?25hInstalling collected packages: watchdog, pyngrok, pydeck, streamlit\n",
            "Successfully installed pydeck-0.9.1 pyngrok-7.2.3 streamlit-1.44.1 watchdog-6.0.0\n"
          ]
        }
      ]
    },
    {
      "cell_type": "code",
      "execution_count": 42,
      "metadata": {
        "colab": {
          "base_uri": "https://localhost:8080/"
        },
        "id": "GXC0peXIKPQ8",
        "outputId": "3fcea028-cb24-4045-9b71-2b7b3413fb6a"
      },
      "outputs": [
        {
          "output_type": "stream",
          "name": "stdout",
          "text": [
            "Overwriting app.py\n"
          ]
        }
      ],
      "source": [
        "%%writefile app.py\n",
        "import streamlit as st\n",
        "import pandas as pd\n",
        "import plotly.express as px\n",
        "\n",
        "@st.cache_data\n",
        "def load_data():\n",
        "    df = pd.read_csv(\"Districtwise_Crime_of_India_2001_to_2014.csv\")\n",
        "    df.columns = df.columns.str.strip().str.upper().str.replace(\" \", \"_\")\n",
        "    return df\n",
        "\n",
        "df = load_data()\n",
        "\n",
        "st.sidebar.header(\"Filter the data\")\n",
        "years = sorted(df[\"YEAR\"].dropna().unique())\n",
        "\n",
        "# Exclude A&N ISLANDS and D&N ISLANDS\n",
        "states = sorted(df[\"STATE/UT\"].dropna().unique())\n",
        "states = [state for state in states if state not in [\"A&N ISLANDS\", \"D&N ISLANDS\"]]\n",
        "\n",
        "selected_year = st.sidebar.selectbox(\"Select Year\", years)\n",
        "selected_state = st.sidebar.selectbox(\"Select State\", states)\n",
        "\n",
        "filtered_df = df[df[\"YEAR\"] == selected_year]\n",
        "filtered_df = filtered_df[filtered_df[\"STATE/UT\"] == selected_state]\n",
        "\n",
        "districts = sorted(filtered_df[\"DISTRICT\"].dropna().unique())\n",
        "selected_district = st.sidebar.selectbox(\"Select District\", districts)\n",
        "\n",
        "filtered_df = filtered_df[filtered_df[\"DISTRICT\"] == selected_district]\n",
        "\n",
        "st.title(\"Crime Dashboard - India\")\n",
        "st.write(f\"### Crime statistics for {selected_district}, {selected_state} in {selected_year}\")\n",
        "st.dataframe(filtered_df)\n",
        "\n",
        "# Cluster similar crime categories\n",
        "grouped_data = {\n",
        "    \"Theft\": filtered_df[[\"THEFT\", \"AUTO_THEFT\", \"OTHER_THEFT\"]].sum(axis=1).values[0],\n",
        "    \"Kidnapping & Abduction\": filtered_df[[\n",
        "        \"KIDNAPPING_&_ABDUCTION\",\n",
        "        \"KIDNAPPING_AND_ABDUCTION_OF_WOMEN_AND_GIRLS\",\n",
        "        \"KIDNAPPING_AND_ABDUCTION_OF_OTHERS\"\n",
        "    ]].sum(axis=1).values[0],\n",
        "    \"Dacoity\": filtered_df[[\n",
        "        \"DACOITY\",\n",
        "        \"PREPARATION_AND_ASSEMBLY_FOR_DACOITY\"\n",
        "    ]].sum(axis=1).values[0],\n",
        "    \"Rape\": filtered_df[[\"RAPE\", \"OTHER_RAPE\"]].sum(axis=1).values[0]\n",
        "}\n",
        "\n",
        "\n",
        "# Add the remaining individual crime types (excluding already grouped ones)\n",
        "excluded = {\n",
        "    \"THEFT\", \"AUTO_THEFT\", \"OTHER_THEFT\",\n",
        "    \"KIDNAPPING_&_ABDUCTION\", \"KIDNAPPING_AND_ABDUCTION_OF_WOMEN_AND_GIRLS\", \"KIDNAPPING_AND_ABDUCTION_OF_OTHERS\",\n",
        "    \"DACOITY\", \"PREPARATION_AND_ASSEMBLY_FOR_DACOITY\", \"RAPE\", \"OTHER_RAPE\"\n",
        "}\n",
        "\n",
        "for col in filtered_df.columns[3:]:\n",
        "    if col not in excluded:\n",
        "        grouped_data[col.replace(\"_\", \" \").title()] = filtered_df[col].values[0]\n",
        "\n",
        "# Create DataFrame for plotting\n",
        "crime_data = pd.DataFrame(grouped_data.items(), columns=[\"Crime_Type\", \"Count\"])\n",
        "crime_data = crime_data[crime_data[\"Count\"] > 0]  # Optional: filter out zero values\n",
        "\n",
        "# Plot the horizontal bar chart\n",
        "fig = px.bar(\n",
        "    crime_data.sort_values(\"Count\"),\n",
        "    y=\"Crime_Type\",\n",
        "    x=\"Count\",\n",
        "    title=\"Crime Counts by Type (Grouped)\",\n",
        "    text=\"Count\",\n",
        "    color=\"Count\",\n",
        "    color_continuous_scale=\"Blues\"\n",
        ")\n",
        "\n",
        "fig.update_layout(\n",
        "    height=800,\n",
        "    width=1000,\n",
        "    title_x=0.5,\n",
        "    xaxis_title=\"Crime Count\",\n",
        "    yaxis_title=\"Crime Type\",\n",
        "    yaxis_tickangle=0,\n",
        ")\n",
        "\n",
        "fig.update_traces(marker_line_color='black', marker_line_width=1)\n",
        "\n",
        "st.plotly_chart(fig)\n"
      ]
    },
    {
      "cell_type": "code",
      "source": [
        "from pyngrok import ngrok\n",
        "import time\n",
        "\n",
        "# Kill any existing tunnel\n",
        "ngrok.kill()\n",
        "\n",
        "# Run Streamlit app in the background\n",
        "!streamlit run app.py &> /dev/null &\n",
        "\n",
        "# Wait a few seconds to make sure Streamlit starts\n",
        "time.sleep(5)\n",
        "\n",
        "# Open the tunnel with proper parameters\n",
        "public_url = ngrok.connect(addr=\"8501\", proto=\"http\")\n",
        "print(\"🌐 Streamlit app is live at:\", public_url)"
      ],
      "metadata": {
        "colab": {
          "base_uri": "https://localhost:8080/"
        },
        "id": "Lq1XrB11Kkii",
        "outputId": "8a213eb0-7531-4af2-a2d7-7c0016ce99ef"
      },
      "execution_count": 12,
      "outputs": [
        {
          "output_type": "stream",
          "name": "stdout",
          "text": [
            "🌐 Streamlit app is live at: NgrokTunnel: \"https://29a5-35-194-254-26.ngrok-free.app\" -> \"http://localhost:8501\"\n"
          ]
        }
      ]
    },
    {
      "cell_type": "code",
      "source": [
        "!ngrok config add-authtoken 2vdfKp60gecnjpSX8QshzTEXQIh_5RRSLC1nEmgbxFCwGEqdm"
      ],
      "metadata": {
        "colab": {
          "base_uri": "https://localhost:8080/"
        },
        "id": "2aLbbYK2KqBZ",
        "outputId": "f8009307-e2a7-4e47-be5b-024e0cb49d8a"
      },
      "execution_count": 10,
      "outputs": [
        {
          "output_type": "stream",
          "name": "stdout",
          "text": [
            "Authtoken saved to configuration file: /root/.config/ngrok/ngrok.yml\n"
          ]
        }
      ]
    },
    {
      "cell_type": "code",
      "source": [
        "import pandas as pd\n",
        "df = pd.read_csv(\"Districtwise_Crime_of_India_2001_to_2014.csv\")\n",
        "df.columns"
      ],
      "metadata": {
        "colab": {
          "base_uri": "https://localhost:8080/"
        },
        "id": "MhRpVnfAQTE0",
        "outputId": "3c0812c8-6748-47fc-e030-745f17272c0e"
      },
      "execution_count": 34,
      "outputs": [
        {
          "output_type": "execute_result",
          "data": {
            "text/plain": [
              "Index(['Unnamed: 0', 'STATE/UT', 'DISTRICT', 'YEAR', 'MURDER',\n",
              "       'ATTEMPT TO MURDER', 'CULPABLE HOMICIDE NOT AMOUNTING TO MURDER',\n",
              "       'RAPE', 'CUSTODIAL RAPE', 'OTHER RAPE', 'KIDNAPPING & ABDUCTION',\n",
              "       'KIDNAPPING AND ABDUCTION OF WOMEN AND GIRLS',\n",
              "       'KIDNAPPING AND ABDUCTION OF OTHERS', 'DACOITY',\n",
              "       'PREPARATION AND ASSEMBLY FOR DACOITY', 'ROBBERY', 'BURGLARY', 'THEFT',\n",
              "       'AUTO THEFT', 'OTHER THEFT', 'RIOTS', 'CRIMINAL BREACH OF TRUST',\n",
              "       'CHEATING', 'COUNTERFIETING', 'ARSON', 'HURT/GREVIOUS HURT',\n",
              "       'DOWRY DEATHS', 'ASSAULT ON WOMEN WITH INTENT TO OUTRAGE HER MODESTY',\n",
              "       'INSULT TO MODESTY OF WOMEN', 'CRUELTY BY HUSBAND OR HIS RELATIVES',\n",
              "       'IMPORTATION OF GIRLS FROM FOREIGN COUNTRIES',\n",
              "       'CAUSING DEATH BY NEGLIGENCE', 'OTHER IPC CRIMES', 'TOTAL IPC CRIMES'],\n",
              "      dtype='object')"
            ]
          },
          "metadata": {},
          "execution_count": 34
        }
      ]
    }
  ]
}